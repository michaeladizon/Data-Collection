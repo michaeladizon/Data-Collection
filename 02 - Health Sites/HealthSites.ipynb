{
 "cells": [
  {
   "cell_type": "markdown",
   "metadata": {},
   "source": [
    "# Health site near you"
   ]
  },
  {
   "cell_type": "code",
   "execution_count": 1,
   "metadata": {},
   "outputs": [],
   "source": [
    "import os\n",
    "\n",
    "import numpy as np\n",
    "import pandas as pd\n",
    "import matplotlib.pyplot as plt\n",
    "\n",
    "%matplotlib inline"
   ]
  },
  {
   "cell_type": "markdown",
   "metadata": {},
   "source": [
    "## Import Datasets"
   ]
  },
  {
   "cell_type": "markdown",
   "metadata": {},
   "source": [
    "The **Region XI Facilities Dataset** contains data regarding the available health amenities in the Davao Region. This includes data from 5 provinces: Davao de Oro, Davao del Norte, Davao del Sur, Davao Occidental, and Davao Oriental.\n",
    "\n",
    "The dataset may be found [here](https://nhfr.doh.gov.ph/Province_Facility_detailslist.php?t=Province_Facility_details&z_regname=%3D&x_regname=REGION+XI+%28DAVAO+REGION%29)\n",
    "\n",
    "The **NCR Facilities Dataset** contains data regarding the available health amenities in the NCR Region. This includes data from City of Manila, Fourth District, Second District, and Third District.\n",
    "\n",
    "The dataset may be found [here](https://nhfr.doh.gov.ph/Province_Facility_detailslist.php?t=Province_Facility_details&z_regname=%3D&x_regname=NATIONAL+CAPITAL+REGION+%28NCR%29)"
   ]
  },
  {
   "cell_type": "code",
   "execution_count": 2,
   "metadata": {
    "scrolled": false
   },
   "outputs": [
    {
     "data": {
      "text/html": [
       "<div>\n",
       "<style scoped>\n",
       "    .dataframe tbody tr th:only-of-type {\n",
       "        vertical-align: middle;\n",
       "    }\n",
       "\n",
       "    .dataframe tbody tr th {\n",
       "        vertical-align: top;\n",
       "    }\n",
       "\n",
       "    .dataframe thead th {\n",
       "        text-align: right;\n",
       "    }\n",
       "</style>\n",
       "<table border=\"1\" class=\"dataframe\">\n",
       "  <thead>\n",
       "    <tr style=\"text-align: right;\">\n",
       "      <th></th>\n",
       "      <th>Region Name</th>\n",
       "      <th>Province Name</th>\n",
       "      <th>No. of Barangay Health Station</th>\n",
       "      <th>No. of Rural Health Unit</th>\n",
       "      <th>No. of City Health Office</th>\n",
       "      <th>No. of Hospitals</th>\n",
       "      <th>No. of Government Hospitals</th>\n",
       "      <th>No. of Private Hospitals</th>\n",
       "      <th>Without License</th>\n",
       "      <th>With License</th>\n",
       "      <th>TOTAL</th>\n",
       "      <th>Infirmary</th>\n",
       "      <th>Birthing Homes</th>\n",
       "    </tr>\n",
       "  </thead>\n",
       "  <tbody>\n",
       "    <tr>\n",
       "      <th>0</th>\n",
       "      <td>REGION XI (DAVAO REGION)</td>\n",
       "      <td>DAVAO DE ORO</td>\n",
       "      <td>238</td>\n",
       "      <td>11</td>\n",
       "      <td>0</td>\n",
       "      <td>5</td>\n",
       "      <td>4</td>\n",
       "      <td>1</td>\n",
       "      <td>0</td>\n",
       "      <td>20</td>\n",
       "      <td>269</td>\n",
       "      <td>7</td>\n",
       "      <td>8</td>\n",
       "    </tr>\n",
       "    <tr>\n",
       "      <th>1</th>\n",
       "      <td>REGION XI (DAVAO REGION)</td>\n",
       "      <td>DAVAO DEL NORTE</td>\n",
       "      <td>231</td>\n",
       "      <td>13</td>\n",
       "      <td>0</td>\n",
       "      <td>18</td>\n",
       "      <td>4</td>\n",
       "      <td>14</td>\n",
       "      <td>1</td>\n",
       "      <td>64</td>\n",
       "      <td>311</td>\n",
       "      <td>12</td>\n",
       "      <td>37</td>\n",
       "    </tr>\n",
       "    <tr>\n",
       "      <th>2</th>\n",
       "      <td>REGION XI (DAVAO REGION)</td>\n",
       "      <td>DAVAO DEL SUR</td>\n",
       "      <td>423</td>\n",
       "      <td>29</td>\n",
       "      <td>0</td>\n",
       "      <td>39</td>\n",
       "      <td>2</td>\n",
       "      <td>37</td>\n",
       "      <td>3</td>\n",
       "      <td>128</td>\n",
       "      <td>587</td>\n",
       "      <td>29</td>\n",
       "      <td>67</td>\n",
       "    </tr>\n",
       "    <tr>\n",
       "      <th>3</th>\n",
       "      <td>REGION XI (DAVAO REGION)</td>\n",
       "      <td>DAVAO OCCIDENTAL</td>\n",
       "      <td>105</td>\n",
       "      <td>5</td>\n",
       "      <td>0</td>\n",
       "      <td>2</td>\n",
       "      <td>1</td>\n",
       "      <td>1</td>\n",
       "      <td>1</td>\n",
       "      <td>9</td>\n",
       "      <td>120</td>\n",
       "      <td>7</td>\n",
       "      <td>1</td>\n",
       "    </tr>\n",
       "    <tr>\n",
       "      <th>4</th>\n",
       "      <td>REGION XI (DAVAO REGION)</td>\n",
       "      <td>DAVAO ORIENTAL</td>\n",
       "      <td>197</td>\n",
       "      <td>11</td>\n",
       "      <td>0</td>\n",
       "      <td>3</td>\n",
       "      <td>2</td>\n",
       "      <td>1</td>\n",
       "      <td>0</td>\n",
       "      <td>10</td>\n",
       "      <td>219</td>\n",
       "      <td>5</td>\n",
       "      <td>3</td>\n",
       "    </tr>\n",
       "  </tbody>\n",
       "</table>\n",
       "</div>"
      ],
      "text/plain": [
       "                Region Name     Province Name  No. of Barangay Health Station  \\\n",
       "0  REGION XI (DAVAO REGION)      DAVAO DE ORO                             238   \n",
       "1  REGION XI (DAVAO REGION)   DAVAO DEL NORTE                             231   \n",
       "2  REGION XI (DAVAO REGION)     DAVAO DEL SUR                             423   \n",
       "3  REGION XI (DAVAO REGION)  DAVAO OCCIDENTAL                             105   \n",
       "4  REGION XI (DAVAO REGION)    DAVAO ORIENTAL                             197   \n",
       "\n",
       "   No. of Rural Health Unit  No. of City Health Office  No. of Hospitals  \\\n",
       "0                        11                          0                 5   \n",
       "1                        13                          0                18   \n",
       "2                        29                          0                39   \n",
       "3                         5                          0                 2   \n",
       "4                        11                          0                 3   \n",
       "\n",
       "   No. of Government Hospitals  No. of Private Hospitals  Without License  \\\n",
       "0                            4                         1                0   \n",
       "1                            4                        14                1   \n",
       "2                            2                        37                3   \n",
       "3                            1                         1                1   \n",
       "4                            2                         1                0   \n",
       "\n",
       "   With License  TOTAL  Infirmary  Birthing Homes  \n",
       "0            20    269          7               8  \n",
       "1            64    311         12              37  \n",
       "2           128    587         29              67  \n",
       "3             9    120          7               1  \n",
       "4            10    219          5               3  "
      ]
     },
     "execution_count": 2,
     "metadata": {},
     "output_type": "execute_result"
    }
   ],
   "source": [
    "davao = pd.read_csv('datasets/regionxi_facilities.csv')\n",
    "davao.head()"
   ]
  },
  {
   "cell_type": "code",
   "execution_count": 3,
   "metadata": {},
   "outputs": [
    {
     "data": {
      "text/html": [
       "<div>\n",
       "<style scoped>\n",
       "    .dataframe tbody tr th:only-of-type {\n",
       "        vertical-align: middle;\n",
       "    }\n",
       "\n",
       "    .dataframe tbody tr th {\n",
       "        vertical-align: top;\n",
       "    }\n",
       "\n",
       "    .dataframe thead th {\n",
       "        text-align: right;\n",
       "    }\n",
       "</style>\n",
       "<table border=\"1\" class=\"dataframe\">\n",
       "  <thead>\n",
       "    <tr style=\"text-align: right;\">\n",
       "      <th></th>\n",
       "      <th>Region Name</th>\n",
       "      <th>Province Name</th>\n",
       "      <th>No. of Barangay Health Station</th>\n",
       "      <th>No. of Rural Health Unit</th>\n",
       "      <th>No. of City Health Office</th>\n",
       "      <th>No. of Hospitals</th>\n",
       "      <th>No. of Government Hospitals</th>\n",
       "      <th>No. of Private Hospitals</th>\n",
       "      <th>Without License</th>\n",
       "      <th>With License</th>\n",
       "      <th>TOTAL</th>\n",
       "      <th>Infirmary</th>\n",
       "      <th>Birthing Homes</th>\n",
       "    </tr>\n",
       "  </thead>\n",
       "  <tbody>\n",
       "    <tr>\n",
       "      <th>0</th>\n",
       "      <td>NATIONAL CAPITAL REGION (NCR)</td>\n",
       "      <td>NCR, CITY OF MANILA, FIRST DISTRICT (Not a Pro...</td>\n",
       "      <td>1</td>\n",
       "      <td>59</td>\n",
       "      <td>0</td>\n",
       "      <td>30</td>\n",
       "      <td>12</td>\n",
       "      <td>18</td>\n",
       "      <td>3</td>\n",
       "      <td>27</td>\n",
       "      <td>90</td>\n",
       "      <td>0</td>\n",
       "      <td>0</td>\n",
       "    </tr>\n",
       "    <tr>\n",
       "      <th>1</th>\n",
       "      <td>NATIONAL CAPITAL REGION (NCR)</td>\n",
       "      <td>NCR, FOURTH DISTRICT (Not a Province)</td>\n",
       "      <td>3</td>\n",
       "      <td>143</td>\n",
       "      <td>0</td>\n",
       "      <td>44</td>\n",
       "      <td>10</td>\n",
       "      <td>34</td>\n",
       "      <td>2</td>\n",
       "      <td>61</td>\n",
       "      <td>209</td>\n",
       "      <td>2</td>\n",
       "      <td>17</td>\n",
       "    </tr>\n",
       "    <tr>\n",
       "      <th>2</th>\n",
       "      <td>NATIONAL CAPITAL REGION (NCR)</td>\n",
       "      <td>NCR, SECOND DISTRICT (Not a Province)</td>\n",
       "      <td>10</td>\n",
       "      <td>168</td>\n",
       "      <td>0</td>\n",
       "      <td>96</td>\n",
       "      <td>22</td>\n",
       "      <td>74</td>\n",
       "      <td>17</td>\n",
       "      <td>136</td>\n",
       "      <td>331</td>\n",
       "      <td>11</td>\n",
       "      <td>46</td>\n",
       "    </tr>\n",
       "    <tr>\n",
       "      <th>3</th>\n",
       "      <td>NATIONAL CAPITAL REGION (NCR)</td>\n",
       "      <td>NCR, THIRD DISTRICT (Not a Province)</td>\n",
       "      <td>8</td>\n",
       "      <td>125</td>\n",
       "      <td>0</td>\n",
       "      <td>21</td>\n",
       "      <td>6</td>\n",
       "      <td>15</td>\n",
       "      <td>4</td>\n",
       "      <td>46</td>\n",
       "      <td>187</td>\n",
       "      <td>6</td>\n",
       "      <td>27</td>\n",
       "    </tr>\n",
       "  </tbody>\n",
       "</table>\n",
       "</div>"
      ],
      "text/plain": [
       "                     Region Name  \\\n",
       "0  NATIONAL CAPITAL REGION (NCR)   \n",
       "1  NATIONAL CAPITAL REGION (NCR)   \n",
       "2  NATIONAL CAPITAL REGION (NCR)   \n",
       "3  NATIONAL CAPITAL REGION (NCR)   \n",
       "\n",
       "                                       Province Name  \\\n",
       "0  NCR, CITY OF MANILA, FIRST DISTRICT (Not a Pro...   \n",
       "1              NCR, FOURTH DISTRICT (Not a Province)   \n",
       "2              NCR, SECOND DISTRICT (Not a Province)   \n",
       "3               NCR, THIRD DISTRICT (Not a Province)   \n",
       "\n",
       "   No. of Barangay Health Station  No. of Rural Health Unit  \\\n",
       "0                               1                        59   \n",
       "1                               3                       143   \n",
       "2                              10                       168   \n",
       "3                               8                       125   \n",
       "\n",
       "   No. of City Health Office  No. of Hospitals  No. of Government Hospitals  \\\n",
       "0                          0                30                           12   \n",
       "1                          0                44                           10   \n",
       "2                          0                96                           22   \n",
       "3                          0                21                            6   \n",
       "\n",
       "   No. of Private Hospitals  Without License  With License  TOTAL  Infirmary  \\\n",
       "0                        18                3            27     90          0   \n",
       "1                        34                2            61    209          2   \n",
       "2                        74               17           136    331         11   \n",
       "3                        15                4            46    187          6   \n",
       "\n",
       "   Birthing Homes  \n",
       "0               0  \n",
       "1              17  \n",
       "2              46  \n",
       "3              27  "
      ]
     },
     "execution_count": 3,
     "metadata": {},
     "output_type": "execute_result"
    }
   ],
   "source": [
    "manila = pd.read_csv('datasets/ncr_facilities.csv')\n",
    "manila.head()"
   ]
  },
  {
   "cell_type": "markdown",
   "metadata": {},
   "source": [
    "### Combine datasets"
   ]
  },
  {
   "cell_type": "markdown",
   "metadata": {},
   "source": [
    "We will be exploring data from Davao del Sur and the City of Manila"
   ]
  },
  {
   "cell_type": "code",
   "execution_count": 4,
   "metadata": {},
   "outputs": [
    {
     "data": {
      "text/html": [
       "<div>\n",
       "<style scoped>\n",
       "    .dataframe tbody tr th:only-of-type {\n",
       "        vertical-align: middle;\n",
       "    }\n",
       "\n",
       "    .dataframe tbody tr th {\n",
       "        vertical-align: top;\n",
       "    }\n",
       "\n",
       "    .dataframe thead th {\n",
       "        text-align: right;\n",
       "    }\n",
       "</style>\n",
       "<table border=\"1\" class=\"dataframe\">\n",
       "  <thead>\n",
       "    <tr style=\"text-align: right;\">\n",
       "      <th></th>\n",
       "      <th>Region Name</th>\n",
       "      <th>Province Name</th>\n",
       "      <th>No. of Barangay Health Station</th>\n",
       "      <th>No. of Rural Health Unit</th>\n",
       "      <th>No. of City Health Office</th>\n",
       "      <th>No. of Hospitals</th>\n",
       "      <th>No. of Government Hospitals</th>\n",
       "      <th>No. of Private Hospitals</th>\n",
       "      <th>Without License</th>\n",
       "      <th>With License</th>\n",
       "      <th>TOTAL</th>\n",
       "      <th>Infirmary</th>\n",
       "      <th>Birthing Homes</th>\n",
       "    </tr>\n",
       "  </thead>\n",
       "  <tbody>\n",
       "    <tr>\n",
       "      <th>2</th>\n",
       "      <td>REGION XI (DAVAO REGION)</td>\n",
       "      <td>DAVAO DEL SUR</td>\n",
       "      <td>423</td>\n",
       "      <td>29</td>\n",
       "      <td>0</td>\n",
       "      <td>39</td>\n",
       "      <td>2</td>\n",
       "      <td>37</td>\n",
       "      <td>3</td>\n",
       "      <td>128</td>\n",
       "      <td>587</td>\n",
       "      <td>29</td>\n",
       "      <td>67</td>\n",
       "    </tr>\n",
       "    <tr>\n",
       "      <th>0</th>\n",
       "      <td>NATIONAL CAPITAL REGION (NCR)</td>\n",
       "      <td>CITY OF MANILA</td>\n",
       "      <td>1</td>\n",
       "      <td>59</td>\n",
       "      <td>0</td>\n",
       "      <td>30</td>\n",
       "      <td>12</td>\n",
       "      <td>18</td>\n",
       "      <td>3</td>\n",
       "      <td>27</td>\n",
       "      <td>90</td>\n",
       "      <td>0</td>\n",
       "      <td>0</td>\n",
       "    </tr>\n",
       "  </tbody>\n",
       "</table>\n",
       "</div>"
      ],
      "text/plain": [
       "                     Region Name   Province Name  \\\n",
       "2       REGION XI (DAVAO REGION)   DAVAO DEL SUR   \n",
       "0  NATIONAL CAPITAL REGION (NCR)  CITY OF MANILA   \n",
       "\n",
       "   No. of Barangay Health Station  No. of Rural Health Unit  \\\n",
       "2                             423                        29   \n",
       "0                               1                        59   \n",
       "\n",
       "   No. of City Health Office  No. of Hospitals  No. of Government Hospitals  \\\n",
       "2                          0                39                            2   \n",
       "0                          0                30                           12   \n",
       "\n",
       "   No. of Private Hospitals  Without License  With License  TOTAL  Infirmary  \\\n",
       "2                        37                3           128    587         29   \n",
       "0                        18                3            27     90          0   \n",
       "\n",
       "   Birthing Homes  \n",
       "2              67  \n",
       "0               0  "
      ]
     },
     "execution_count": 4,
     "metadata": {},
     "output_type": "execute_result"
    }
   ],
   "source": [
    "df = davao[davao['Province Name'] == 'DAVAO DEL SUR']\n",
    "df = df.append(manila[manila['Province Name'] == 'NCR, CITY OF MANILA, FIRST DISTRICT (Not a Province)'])\n",
    "df = df.replace(to_replace =\"NCR, CITY OF MANILA, FIRST DISTRICT (Not a Province)\", value =\"CITY OF MANILA\")\n",
    "df.head()"
   ]
  },
  {
   "cell_type": "code",
   "execution_count": 5,
   "metadata": {
    "scrolled": false
   },
   "outputs": [
    {
     "name": "stdout",
     "output_type": "stream",
     "text": [
      "<class 'pandas.core.frame.DataFrame'>\n",
      "Int64Index: 2 entries, 2 to 0\n",
      "Data columns (total 13 columns):\n",
      " #   Column                          Non-Null Count  Dtype \n",
      "---  ------                          --------------  ----- \n",
      " 0   Region Name                     2 non-null      object\n",
      " 1   Province Name                   2 non-null      object\n",
      " 2   No. of Barangay Health Station  2 non-null      int64 \n",
      " 3   No. of Rural Health Unit        2 non-null      int64 \n",
      " 4   No. of City Health Office       2 non-null      int64 \n",
      " 5   No. of Hospitals                2 non-null      int64 \n",
      " 6   No. of Government Hospitals     2 non-null      int64 \n",
      " 7   No. of Private Hospitals        2 non-null      int64 \n",
      " 8   Without License                 2 non-null      int64 \n",
      " 9   With License                    2 non-null      int64 \n",
      " 10  TOTAL                           2 non-null      int64 \n",
      " 11  Infirmary                       2 non-null      int64 \n",
      " 12  Birthing Homes                  2 non-null      int64 \n",
      "dtypes: int64(11), object(2)\n",
      "memory usage: 224.0+ bytes\n"
     ]
    }
   ],
   "source": [
    "df.info()"
   ]
  },
  {
   "cell_type": "code",
   "execution_count": 6,
   "metadata": {},
   "outputs": [
    {
     "data": {
      "text/html": [
       "<div>\n",
       "<style scoped>\n",
       "    .dataframe tbody tr th:only-of-type {\n",
       "        vertical-align: middle;\n",
       "    }\n",
       "\n",
       "    .dataframe tbody tr th {\n",
       "        vertical-align: top;\n",
       "    }\n",
       "\n",
       "    .dataframe thead th {\n",
       "        text-align: right;\n",
       "    }\n",
       "</style>\n",
       "<table border=\"1\" class=\"dataframe\">\n",
       "  <thead>\n",
       "    <tr style=\"text-align: right;\">\n",
       "      <th></th>\n",
       "      <th>No. of Barangay Health Station</th>\n",
       "      <th>No. of Rural Health Unit</th>\n",
       "      <th>No. of City Health Office</th>\n",
       "      <th>No. of Hospitals</th>\n",
       "      <th>No. of Government Hospitals</th>\n",
       "      <th>No. of Private Hospitals</th>\n",
       "      <th>Without License</th>\n",
       "      <th>With License</th>\n",
       "      <th>TOTAL</th>\n",
       "      <th>Infirmary</th>\n",
       "      <th>Birthing Homes</th>\n",
       "    </tr>\n",
       "  </thead>\n",
       "  <tbody>\n",
       "    <tr>\n",
       "      <th>count</th>\n",
       "      <td>2.000000</td>\n",
       "      <td>2.000000</td>\n",
       "      <td>2.0</td>\n",
       "      <td>2.000000</td>\n",
       "      <td>2.000000</td>\n",
       "      <td>2.000000</td>\n",
       "      <td>2.0</td>\n",
       "      <td>2.000000</td>\n",
       "      <td>2.00000</td>\n",
       "      <td>2.000000</td>\n",
       "      <td>2.000000</td>\n",
       "    </tr>\n",
       "    <tr>\n",
       "      <th>mean</th>\n",
       "      <td>212.000000</td>\n",
       "      <td>44.000000</td>\n",
       "      <td>0.0</td>\n",
       "      <td>34.500000</td>\n",
       "      <td>7.000000</td>\n",
       "      <td>27.500000</td>\n",
       "      <td>3.0</td>\n",
       "      <td>77.500000</td>\n",
       "      <td>338.50000</td>\n",
       "      <td>14.500000</td>\n",
       "      <td>33.500000</td>\n",
       "    </tr>\n",
       "    <tr>\n",
       "      <th>std</th>\n",
       "      <td>298.399062</td>\n",
       "      <td>21.213203</td>\n",
       "      <td>0.0</td>\n",
       "      <td>6.363961</td>\n",
       "      <td>7.071068</td>\n",
       "      <td>13.435029</td>\n",
       "      <td>0.0</td>\n",
       "      <td>71.417785</td>\n",
       "      <td>351.43207</td>\n",
       "      <td>20.506097</td>\n",
       "      <td>47.376154</td>\n",
       "    </tr>\n",
       "    <tr>\n",
       "      <th>min</th>\n",
       "      <td>1.000000</td>\n",
       "      <td>29.000000</td>\n",
       "      <td>0.0</td>\n",
       "      <td>30.000000</td>\n",
       "      <td>2.000000</td>\n",
       "      <td>18.000000</td>\n",
       "      <td>3.0</td>\n",
       "      <td>27.000000</td>\n",
       "      <td>90.00000</td>\n",
       "      <td>0.000000</td>\n",
       "      <td>0.000000</td>\n",
       "    </tr>\n",
       "    <tr>\n",
       "      <th>25%</th>\n",
       "      <td>106.500000</td>\n",
       "      <td>36.500000</td>\n",
       "      <td>0.0</td>\n",
       "      <td>32.250000</td>\n",
       "      <td>4.500000</td>\n",
       "      <td>22.750000</td>\n",
       "      <td>3.0</td>\n",
       "      <td>52.250000</td>\n",
       "      <td>214.25000</td>\n",
       "      <td>7.250000</td>\n",
       "      <td>16.750000</td>\n",
       "    </tr>\n",
       "    <tr>\n",
       "      <th>50%</th>\n",
       "      <td>212.000000</td>\n",
       "      <td>44.000000</td>\n",
       "      <td>0.0</td>\n",
       "      <td>34.500000</td>\n",
       "      <td>7.000000</td>\n",
       "      <td>27.500000</td>\n",
       "      <td>3.0</td>\n",
       "      <td>77.500000</td>\n",
       "      <td>338.50000</td>\n",
       "      <td>14.500000</td>\n",
       "      <td>33.500000</td>\n",
       "    </tr>\n",
       "    <tr>\n",
       "      <th>75%</th>\n",
       "      <td>317.500000</td>\n",
       "      <td>51.500000</td>\n",
       "      <td>0.0</td>\n",
       "      <td>36.750000</td>\n",
       "      <td>9.500000</td>\n",
       "      <td>32.250000</td>\n",
       "      <td>3.0</td>\n",
       "      <td>102.750000</td>\n",
       "      <td>462.75000</td>\n",
       "      <td>21.750000</td>\n",
       "      <td>50.250000</td>\n",
       "    </tr>\n",
       "    <tr>\n",
       "      <th>max</th>\n",
       "      <td>423.000000</td>\n",
       "      <td>59.000000</td>\n",
       "      <td>0.0</td>\n",
       "      <td>39.000000</td>\n",
       "      <td>12.000000</td>\n",
       "      <td>37.000000</td>\n",
       "      <td>3.0</td>\n",
       "      <td>128.000000</td>\n",
       "      <td>587.00000</td>\n",
       "      <td>29.000000</td>\n",
       "      <td>67.000000</td>\n",
       "    </tr>\n",
       "  </tbody>\n",
       "</table>\n",
       "</div>"
      ],
      "text/plain": [
       "       No. of Barangay Health Station  No. of Rural Health Unit  \\\n",
       "count                        2.000000                  2.000000   \n",
       "mean                       212.000000                 44.000000   \n",
       "std                        298.399062                 21.213203   \n",
       "min                          1.000000                 29.000000   \n",
       "25%                        106.500000                 36.500000   \n",
       "50%                        212.000000                 44.000000   \n",
       "75%                        317.500000                 51.500000   \n",
       "max                        423.000000                 59.000000   \n",
       "\n",
       "       No. of City Health Office  No. of Hospitals  \\\n",
       "count                        2.0          2.000000   \n",
       "mean                         0.0         34.500000   \n",
       "std                          0.0          6.363961   \n",
       "min                          0.0         30.000000   \n",
       "25%                          0.0         32.250000   \n",
       "50%                          0.0         34.500000   \n",
       "75%                          0.0         36.750000   \n",
       "max                          0.0         39.000000   \n",
       "\n",
       "       No. of Government Hospitals  No. of Private Hospitals  Without License  \\\n",
       "count                     2.000000                  2.000000              2.0   \n",
       "mean                      7.000000                 27.500000              3.0   \n",
       "std                       7.071068                 13.435029              0.0   \n",
       "min                       2.000000                 18.000000              3.0   \n",
       "25%                       4.500000                 22.750000              3.0   \n",
       "50%                       7.000000                 27.500000              3.0   \n",
       "75%                       9.500000                 32.250000              3.0   \n",
       "max                      12.000000                 37.000000              3.0   \n",
       "\n",
       "       With License      TOTAL  Infirmary  Birthing Homes  \n",
       "count      2.000000    2.00000   2.000000        2.000000  \n",
       "mean      77.500000  338.50000  14.500000       33.500000  \n",
       "std       71.417785  351.43207  20.506097       47.376154  \n",
       "min       27.000000   90.00000   0.000000        0.000000  \n",
       "25%       52.250000  214.25000   7.250000       16.750000  \n",
       "50%       77.500000  338.50000  14.500000       33.500000  \n",
       "75%      102.750000  462.75000  21.750000       50.250000  \n",
       "max      128.000000  587.00000  29.000000       67.000000  "
      ]
     },
     "execution_count": 6,
     "metadata": {},
     "output_type": "execute_result"
    }
   ],
   "source": [
    "df.describe()"
   ]
  },
  {
   "cell_type": "markdown",
   "metadata": {},
   "source": [
    "## Visualization"
   ]
  },
  {
   "cell_type": "markdown",
   "metadata": {},
   "source": [
    "### How many health amenities are there in total in each province?"
   ]
  },
  {
   "cell_type": "code",
   "execution_count": 7,
   "metadata": {},
   "outputs": [
    {
     "data": {
      "image/png": "[encoded data removed]",
      "text/plain": [
       "<Figure size 576x360 with 1 Axes>"
      ]
     },
     "metadata": {
      "needs_background": "light"
     },
     "output_type": "display_data"
    }
   ],
   "source": [
    "fig = plt.figure(figsize = (8, 5))\n",
    "plt.bar(df['Province Name'],df['TOTAL'])\n",
    "\n",
    "plt.title('Total number of health amenities', fontsize=16)\n",
    "plt.ylabel('Count', fontsize=12)\n",
    "\n",
    "plt.show()"
   ]
  },
  {
   "cell_type": "markdown",
   "metadata": {},
   "source": [
    "### Number of barangay health stations in each province"
   ]
  },
  {
   "cell_type": "code",
   "execution_count": 8,
   "metadata": {},
   "outputs": [
    {
     "data": {
      "image/png": "[encoded data removed]",
      "text/plain": [
       "<Figure size 576x360 with 1 Axes>"
      ]
     },
     "metadata": {
      "needs_background": "light"
     },
     "output_type": "display_data"
    }
   ],
   "source": [
    "fig = plt.figure(figsize = (8, 5))\n",
    "plt.bar(df['Province Name'],df['No. of Barangay Health Station'])\n",
    "\n",
    "plt.title('Number of barangay health stations in each province', fontsize=16)\n",
    "plt.ylabel('Count', fontsize=12)\n",
    "plt.show()"
   ]
  },
  {
   "cell_type": "markdown",
   "metadata": {},
   "source": [
    "### Distribution of hospitals in each province"
   ]
  },
  {
   "cell_type": "code",
   "execution_count": 9,
   "metadata": {
    "scrolled": false
   },
   "outputs": [
    {
     "data": {
      "image/png": "[encoded data removed]",
      "text/plain": [
       "<Figure size 432x288 with 1 Axes>"
      ]
     },
     "metadata": {
      "needs_background": "light"
     },
     "output_type": "display_data"
    }
   ],
   "source": [
    "provinces = 'Province Name'\n",
    "hospitals = ['No. of Hospitals','No. of Government Hospitals','No. of Private Hospitals']\n",
    "ax = df.plot(x=provinces, y=hospitals, kind='bar')\n",
    "\n",
    "plt.rcParams[\"figure.figsize\"] = (10,7)\n",
    "plt.title('Distribution of hospitals according to province', fontsize=16)\n",
    "plt.ylabel('No. of Hospitals', fontsize=12)\n",
    "plt.xticks(rotation=0)\n",
    "plt.show()"
   ]
  },
  {
   "cell_type": "markdown",
   "metadata": {},
   "source": [
    "### Infirmary and Birthing Homes in each province"
   ]
  },
  {
   "cell_type": "code",
   "execution_count": 10,
   "metadata": {},
   "outputs": [
    {
     "data": {
      "image/png": "[encoded data removed]",
      "text/plain": [
       "<Figure size 1080x432 with 2 Axes>"
      ]
     },
     "metadata": {
      "needs_background": "light"
     },
     "output_type": "display_data"
    }
   ],
   "source": [
    "fig = plt.figure(figsize=(15, 6))\n",
    "\n",
    "ax = fig.add_subplot(1,2,1)\n",
    "\n",
    "ax.bar(df['Province Name'],df['Infirmary'], color='#68abb8')\n",
    "ax.set_title('Number of infirmaries', fontsize=16)\n",
    "ax.set_ylabel('Count', fontsize=12)\n",
    "ax.set_ylim([0,70])\n",
    "ax.spines['right'].set_visible(False)\n",
    "ax.spines['top'].set_visible(False)\n",
    "ax.xaxis.grid(False)\n",
    "\n",
    "ax2 = fig.add_subplot(1,2,2)\n",
    "\n",
    "ax2.bar(df['Province Name'],df['Birthing Homes'], color='dimgray')\n",
    "ax2.set_title('Number of birthing homes', fontsize=16)\n",
    "ax2.set_ylabel('Count', fontsize=12)\n",
    "ax2.set_ylim([0,70])\n",
    "ax2.spines['right'].set_visible(False)\n",
    "ax2.spines['top'].set_visible(False)\n",
    "ax2.xaxis.grid(False)"
   ]
  },
  {
   "cell_type": "markdown",
   "metadata": {},
   "source": [
    "### How many of the health amenities in each province have a license and how many do not?"
   ]
  },
  {
   "cell_type": "code",
   "execution_count": 11,
   "metadata": {},
   "outputs": [
    {
     "data": {
      "image/png": "[encoded data removed]",
      "text/plain": [
       "<Figure size 1080x432 with 2 Axes>"
      ]
     },
     "metadata": {
      "needs_background": "light"
     },
     "output_type": "display_data"
    }
   ],
   "source": [
    "fig = plt.figure(figsize=(15, 6))\n",
    "\n",
    "ax = fig.add_subplot(1,2,1)\n",
    "\n",
    "ax.bar(df['Province Name'],df['With License'], color='#68abb8')\n",
    "ax.set_title('Health amenities with license', fontsize=16)\n",
    "ax.set_ylabel('Count', fontsize=12)\n",
    "ax.set_ylim([0,80])\n",
    "ax.spines['right'].set_visible(False)\n",
    "ax.spines['top'].set_visible(False)\n",
    "ax.xaxis.grid(False)\n",
    "\n",
    "ax2 = fig.add_subplot(1,2,2)\n",
    "\n",
    "ax2.bar(df['Province Name'],df['Without License'], color='dimgray')\n",
    "ax2.set_title('Health amenities without license', fontsize=16)\n",
    "ax2.set_ylabel('Count', fontsize=12)\n",
    "ax2.set_ylim([0,80])\n",
    "ax2.spines['right'].set_visible(False)\n",
    "ax2.spines['top'].set_visible(False)\n",
    "ax2.xaxis.grid(False)"
   ]
  },
  {
   "cell_type": "markdown",
   "metadata": {},
   "source": [
    "### Distribution of health amenities"
   ]
  },
  {
   "cell_type": "code",
   "execution_count": 12,
   "metadata": {
    "scrolled": false
   },
   "outputs": [
    {
     "data": {
      "image/png": "[encoded data removed]",
      "text/plain": [
       "<Figure size 720x432 with 1 Axes>"
      ]
     },
     "metadata": {
      "needs_background": "light"
     },
     "output_type": "display_data"
    }
   ],
   "source": [
    "ax = df.plot(kind='bar', figsize=(10, 6), cmap=plt.cm.viridis)\n",
    "\n",
    "ax.set_title('Distribution of health amenities', fontsize=16)\n",
    "ax.set_xticklabels(df['Province Name'], rotation=0)\n",
    "ax.set_ylabel('Count', fontsize=12);\n",
    "# plt.xticks(rotation=0)"
   ]
  },
  {
   "cell_type": "markdown",
   "metadata": {},
   "source": [
    "### How many health-related amenities are there in provinces where you, your family, and your relatives are currently residing in?"
   ]
  },
  {
   "cell_type": "code",
   "execution_count": 19,
   "metadata": {},
   "outputs": [
    {
     "data": {
      "image/png": "[encoded data removed]",
      "text/plain": [
       "<Figure size 720x720 with 9 Axes>"
      ]
     },
     "metadata": {
      "needs_background": "light"
     },
     "output_type": "display_data"
    }
   ],
   "source": [
    "fig, axs = plt.subplots(3,3)\n",
    "fig.set_figheight(10)\n",
    "fig.set_figwidth(10)\n",
    "\n",
    "# Total number of health amenities\n",
    "axs[0,0].bar(df['Province Name'],df['TOTAL'], color=['#68abb8','dimgray'])\n",
    "axs[0,0].set_title('Total number of health amenities')\n",
    "axs[0,0].set_ylim([0,400])\n",
    "\n",
    "# Barangay health stations\n",
    "axs[0,1].bar(df['Province Name'],df['No. of Barangay Health Station'], color=['#68abb8','dimgray'])\n",
    "axs[0,1].set_title('Barangay health stations')\n",
    "axs[0,1].set_ylim([0,400])\n",
    "\n",
    "# Rural health units\n",
    "axs[0,2].bar(df['Province Name'],df['No. of Rural Health Unit'], color=['#68abb8','dimgray'])\n",
    "axs[0,2].set_title('Rural health units')\n",
    "axs[0,2].set_ylim([0,400])\n",
    "\n",
    "# City health offices\n",
    "axs[1,0].bar(df['Province Name'],df['No. of City Health Office'], color=['#68abb8','dimgray'])\n",
    "axs[1,0].set_title('City health offices')\n",
    "axs[1,0].set_ylim([0,400])\n",
    "\n",
    "# Infirmaries\n",
    "axs[1,1].bar(df['Province Name'],df['Infirmary'], color=['#68abb8','dimgray'])\n",
    "axs[1,1].set_title('Infirmaries')\n",
    "axs[1,1].set_ylim([0,400])\n",
    "\n",
    "# Birthing homes\n",
    "axs[1,2].bar(df['Province Name'],df['Birthing Homes'], color=['#68abb8','dimgray'])\n",
    "axs[1,2].set_title('Birthing homes')\n",
    "axs[1,2].set_ylim([0,400])\n",
    "\n",
    "# Hospitals\n",
    "axs[2,0].bar(df['Province Name'],df['No. of Hospitals'], color=['#68abb8','dimgray'])\n",
    "axs[2,0].set_title('Hospitals')\n",
    "axs[2,0].set_ylim([0,400])\n",
    "\n",
    "# Government hospitals\n",
    "axs[2,1].bar(df['Province Name'],df['No. of Government Hospitals'], color=['#68abb8','dimgray'])\n",
    "axs[2,1].set_title('Government hospitals')\n",
    "axs[2,1].set_ylim([0,400])\n",
    "\n",
    "# Private hospitals\n",
    "axs[2,2].bar(df['Province Name'],df['No. of Private Hospitals'], color=['#68abb8','dimgray'])\n",
    "axs[2,2].set_title('Private hospitals')\n",
    "axs[2,2].set_ylim([0,400])\n",
    "\n",
    "fig.tight_layout()\n",
    "plt.savefig('visualization.jpg')"
   ]
  }
 ],
 "metadata": {
  "kernelspec": {
   "display_name": "Python 3",
   "language": "python",
   "name": "python3"
  },
  "language_info": {
   "codemirror_mode": {
    "name": "ipython",
    "version": 3
   },
   "file_extension": ".py",
   "mimetype": "text/x-python",
   "name": "python",
   "nbconvert_exporter": "python",
   "pygments_lexer": "ipython3",
   "version": "3.8.5"
  }
 },
 "nbformat": 4,
 "nbformat_minor": 4
}
